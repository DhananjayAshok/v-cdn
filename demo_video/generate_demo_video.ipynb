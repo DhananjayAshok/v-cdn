{
 "cells": [
  {
   "cell_type": "code",
   "execution_count": 1,
   "metadata": {},
   "outputs": [],
   "source": [
    "import os\n",
    "import time\n",
    "\n",
    "import cv2\n",
    "import numpy as np\n",
    "from demo_utils import render_BallEnv, load_data\n",
    "\n",
    "from IPython.display import Image"
   ]
  },
  {
   "cell_type": "code",
   "execution_count": 2,
   "metadata": {},
   "outputs": [],
   "source": [
    "## hyperparameters\n",
    "\n",
    "data_dir = 'data'\n",
    "\n",
    "time_step = 500\n",
    "data_names = ['attr', 'state', 'action', 'rel_attr']"
   ]
  },
  {
   "cell_type": "code",
   "execution_count": 3,
   "metadata": {},
   "outputs": [
    {
     "name": "stdout",
     "output_type": "stream",
     "text": [
      "Saving video as data/2_balls_wo_relation.avi ...\n",
      "Saving images to data/2_balls_wo_relation ...\n"
     ]
    },
    {
     "name": "stderr",
     "output_type": "stream",
     "text": [
      "/home/yunzhu/Documents/test/v-cdn/demo_video/demo_utils.py:69: RuntimeWarning: invalid value encountered in true_divide\n",
      "  Fx = F / normF * normF * 0.05\n",
      "/home/yunzhu/Documents/test/v-cdn/demo_video/demo_utils.py:70: RuntimeWarning: invalid value encountered in true_divide\n",
      "  st = states[i, x, :2] + F / normF * 12.\n"
     ]
    },
    {
     "name": "stdout",
     "output_type": "stream",
     "text": [
      "Sample image:\n"
     ]
    },
    {
     "data": {
      "image/png": "[encoded data removed]",
      "text/plain": [
       "<IPython.core.display.Image object>"
      ]
     },
     "execution_count": 3,
     "metadata": {},
     "output_type": "execute_result"
    }
   ],
   "source": [
    "## Two balls, no relation\n",
    "\n",
    "file_name = '2_balls_wo_relation'\n",
    "data_path = '%s/%s.h5' % (data_dir, file_name)\n",
    "\n",
    "attr, state, action, rel_attr = load_data(data_names, data_path)\n",
    "\n",
    "render_BallEnv(state, action, rel_attr[0], video=True, image=True, path='%s/%s' % (data_dir, file_name))\n",
    "\n",
    "print(\"Sample image:\")\n",
    "sample_img_path = '%s/%s/fig_0.png' % (data_dir, file_name)\n",
    "Image(filename=sample_img_path) "
   ]
  },
  {
   "cell_type": "code",
   "execution_count": 4,
   "metadata": {},
   "outputs": [
    {
     "name": "stdout",
     "output_type": "stream",
     "text": [
      "Saving video as data/2_balls_w_relation.avi ...\n",
      "Saving images to data/2_balls_w_relation ...\n",
      "Saving video as data/2_balls_w_relation_visEdge.avi ...\n",
      "Saving images to data/2_balls_w_relation_visEdge ...\n",
      "Sample image:\n"
     ]
    },
    {
     "data": {
      "image/png": "[encoded data removed]",
      "text/plain": [
       "<IPython.core.display.Image object>"
      ]
     },
     "execution_count": 4,
     "metadata": {},
     "output_type": "execute_result"
    }
   ],
   "source": [
    "## Two balls, one relation\n",
    "\n",
    "file_name = '2_balls_w_relation'\n",
    "data_path = '%s/%s.h5' % (data_dir, file_name)\n",
    "\n",
    "attr, state, action, rel_attr = load_data(data_names, data_path)\n",
    "\n",
    "render_BallEnv(state, action, rel_attr[0], video=True, image=True,\n",
    "               path='%s/%s' % (data_dir, file_name),\n",
    "               draw_edge=False)\n",
    "\n",
    "render_BallEnv(state, action, rel_attr[0], video=True, image=True,\n",
    "               path='%s/%s_visEdge' % (data_dir, file_name),\n",
    "               draw_edge=True)\n",
    "\n",
    "print(\"Sample image:\")\n",
    "sample_img_path = '%s/%s_visEdge/fig_0.png' % (data_dir, file_name)\n",
    "Image(filename=sample_img_path) "
   ]
  },
  {
   "cell_type": "code",
   "execution_count": 5,
   "metadata": {},
   "outputs": [
    {
     "name": "stdout",
     "output_type": "stream",
     "text": [
      "Saving video as data/5_balls_w_relation_oneType.avi ...\n",
      "Saving images to data/5_balls_w_relation_oneType ...\n",
      "Saving video as data/5_balls_w_relation_oneType_visEdge.avi ...\n",
      "Saving images to data/5_balls_w_relation_oneType_visEdge ...\n",
      "Sample image:\n"
     ]
    },
    {
     "data": {
      "image/png": "[encoded data removed]",
      "text/plain": [
       "<IPython.core.display.Image object>"
      ]
     },
     "execution_count": 5,
     "metadata": {},
     "output_type": "execute_result"
    }
   ],
   "source": [
    "## Five balls, one type of relation\n",
    "\n",
    "file_name = '5_balls_w_relation_oneType'\n",
    "data_path = '%s/%s.h5' % (data_dir, file_name)\n",
    "\n",
    "attr, state, action, rel_attr = load_data(data_names, data_path)\n",
    "\n",
    "render_BallEnv(state, action, rel_attr[0], video=True, image=True,\n",
    "               path='%s/%s' % (data_dir, file_name),\n",
    "               draw_edge=False)\n",
    "\n",
    "render_BallEnv(state, action, rel_attr[0], video=True, image=True,\n",
    "               path='%s/%s_visEdge' % (data_dir, file_name),\n",
    "               draw_edge=True)\n",
    "\n",
    "print(\"Sample image:\")\n",
    "sample_img_path = '%s/%s/fig_0.png' % (data_dir, file_name)\n",
    "Image(filename=sample_img_path) "
   ]
  },
  {
   "cell_type": "code",
   "execution_count": null,
   "metadata": {},
   "outputs": [
    {
     "name": "stdout",
     "output_type": "stream",
     "text": [
      "Saving video as data/5_balls_w_relation_multipleType.avi ...\n",
      "Saving images to data/5_balls_w_relation_multipleType ...\n"
     ]
    }
   ],
   "source": [
    "## Five balls, multiple types of relation\n",
    "\n",
    "file_name = '5_balls_w_relation_multipleType'\n",
    "data_path = '%s/%s.h5' % (data_dir, file_name)\n",
    "\n",
    "attr, state, action, rel_attr = load_data(data_names, data_path)\n",
    "\n",
    "render_BallEnv(state, action, rel_attr[0], video=True, image=True,\n",
    "               path='%s/%s' % (data_dir, file_name),\n",
    "               draw_edge=False)\n",
    "\n",
    "render_BallEnv(state, action, rel_attr[0], video=True, image=True,\n",
    "               path='%s/%s_visEdge' % (data_dir, file_name),\n",
    "               draw_edge=True)\n",
    "\n",
    "print(\"Sample image:\")\n",
    "sample_img_path = '%s/%s/fig_0.png' % (data_dir, file_name)\n",
    "Image(filename=sample_img_path) "
   ]
  },
  {
   "cell_type": "code",
   "execution_count": null,
   "metadata": {},
   "outputs": [],
   "source": []
  }
 ],
 "metadata": {
  "kernelspec": {
   "display_name": "Python 3",
   "language": "python",
   "name": "python3"
  },
  "language_info": {
   "codemirror_mode": {
    "name": "ipython",
    "version": 3
   },
   "file_extension": ".py",
   "mimetype": "text/x-python",
   "name": "python",
   "nbconvert_exporter": "python",
   "pygments_lexer": "ipython3",
   "version": "3.7.4"
  }
 },
 "nbformat": 4,
 "nbformat_minor": 2
}
