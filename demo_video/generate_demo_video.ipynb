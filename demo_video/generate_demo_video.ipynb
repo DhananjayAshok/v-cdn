{
 "cells": [
  {
   "cell_type": "code",
   "execution_count": null,
   "metadata": {},
   "outputs": [],
   "source": [
    "import os\n",
    "import time\n",
    "\n",
    "import cv2\n",
    "import numpy as np\n",
    "from demo_utils import render_BallEnv, load_data\n",
    "\n",
    "from IPython.display import Image"
   ]
  },
  {
   "cell_type": "code",
   "execution_count": null,
   "metadata": {},
   "outputs": [],
   "source": [
    "## hyperparameters\n",
    "\n",
    "data_dir = 'data'\n",
    "\n",
    "time_step = 500\n",
    "data_names = ['attr', 'state', 'action', 'rel_attr']"
   ]
  },
  {
   "cell_type": "code",
   "execution_count": null,
   "metadata": {},
   "outputs": [],
   "source": [
    "## Two balls, no relation\n",
    "\n",
    "file_name = '2_balls_wo_relation'\n",
    "data_path = '%s/%s.h5' % (data_dir, file_name)\n",
    "\n",
    "attr, state, action, rel_attr = load_data(data_names, data_path)\n",
    "\n",
    "render_BallEnv(state, action, rel_attr[0], video=True, image=True, path='%s/%s' % (data_dir, file_name))\n",
    "\n",
    "print(\"Sample image:\")\n",
    "sample_img_path = '%s/%s/fig_0.png' % (data_dir, file_name)\n",
    "Image(filename=sample_img_path) "
   ]
  },
  {
   "cell_type": "code",
   "execution_count": null,
   "metadata": {},
   "outputs": [],
   "source": [
    "## Two balls, one relation\n",
    "\n",
    "file_name = '2_balls_w_relation'\n",
    "data_path = '%s/%s.h5' % (data_dir, file_name)\n",
    "\n",
    "attr, state, action, rel_attr = load_data(data_names, data_path)\n",
    "\n",
    "render_BallEnv(state, action, rel_attr[0], video=True, image=True,\n",
    "               path='%s/%s' % (data_dir, file_name),\n",
    "               draw_edge=False)\n",
    "\n",
    "render_BallEnv(state, action, rel_attr[0], video=True, image=True,\n",
    "               path='%s/%s_visEdge' % (data_dir, file_name),\n",
    "               draw_edge=True)\n",
    "\n",
    "print(\"Sample image:\")\n",
    "sample_img_path = '%s/%s_visEdge/fig_0.png' % (data_dir, file_name)\n",
    "Image(filename=sample_img_path) "
   ]
  },
  {
   "cell_type": "code",
   "execution_count": null,
   "metadata": {},
   "outputs": [],
   "source": [
    "## Five balls, one type of relation\n",
    "\n",
    "file_name = '5_balls_w_relation_oneType'\n",
    "data_path = '%s/%s.h5' % (data_dir, file_name)\n",
    "\n",
    "attr, state, action, rel_attr = load_data(data_names, data_path)\n",
    "\n",
    "render_BallEnv(state, action, rel_attr[0], video=True, image=True,\n",
    "               path='%s/%s' % (data_dir, file_name),\n",
    "               draw_edge=False)\n",
    "\n",
    "render_BallEnv(state, action, rel_attr[0], video=True, image=True,\n",
    "               path='%s/%s_visEdge' % (data_dir, file_name),\n",
    "               draw_edge=True)\n",
    "\n",
    "print(\"Sample image:\")\n",
    "sample_img_path = '%s/%s/fig_0.png' % (data_dir, file_name)\n",
    "Image(filename=sample_img_path) "
   ]
  },
  {
   "cell_type": "code",
   "execution_count": null,
   "metadata": {},
   "outputs": [],
   "source": [
    "## Five balls, multiple types of relation\n",
    "\n",
    "file_name = '5_balls_w_relation_multipleType'\n",
    "data_path = '%s/%s.h5' % (data_dir, file_name)\n",
    "\n",
    "attr, state, action, rel_attr = load_data(data_names, data_path)\n",
    "\n",
    "render_BallEnv(state, action, rel_attr[0], video=True, image=True,\n",
    "               path='%s/%s' % (data_dir, file_name),\n",
    "               draw_edge=False)\n",
    "\n",
    "render_BallEnv(state, action, rel_attr[0], video=True, image=True,\n",
    "               path='%s/%s_visEdge' % (data_dir, file_name),\n",
    "               draw_edge=True)\n",
    "\n",
    "print(\"Sample image:\")\n",
    "sample_img_path = '%s/%s/fig_0.png' % (data_dir, file_name)\n",
    "Image(filename=sample_img_path) "
   ]
  },
  {
   "cell_type": "code",
   "execution_count": null,
   "metadata": {},
   "outputs": [],
   "source": []
  }
 ],
 "metadata": {
  "kernelspec": {
   "display_name": "Python 3",
   "language": "python",
   "name": "python3"
  },
  "language_info": {
   "codemirror_mode": {
    "name": "ipython",
    "version": 3
   },
   "file_extension": ".py",
   "mimetype": "text/x-python",
   "name": "python",
   "nbconvert_exporter": "python",
   "pygments_lexer": "ipython3",
   "version": "3.7.4"
  }
 },
 "nbformat": 4,
 "nbformat_minor": 2
}
